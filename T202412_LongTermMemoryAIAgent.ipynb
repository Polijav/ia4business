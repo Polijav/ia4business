{
  "nbformat": 4,
  "nbformat_minor": 0,
  "metadata": {
    "colab": {
      "provenance": [],
      "include_colab_link": true
    },
    "kernelspec": {
      "name": "python3",
      "display_name": "Python 3"
    },
    "language_info": {
      "name": "python"
    }
  },
  "cells": [
    {
      "cell_type": "markdown",
      "metadata": {
        "id": "view-in-github",
        "colab_type": "text"
      },
      "source": [
        "<a href=\"https://colab.research.google.com/github/Polijav/ia4business/blob/master/T202412_LongTermMemoryAIAgent.ipynb\" target=\"_parent\"><img src=\"https://colab.research.google.com/assets/colab-badge.svg\" alt=\"Open In Colab\"/></a>"
      ]
    },
    {
      "cell_type": "markdown",
      "source": [
        "# Building a Long-Term Memory AI Assistent for Content Creation\n",
        "In this notebook, we will use the LangGraph Framework to develop an AI Assisant that will help us manage our content creation calendar.\n",
        "\n",
        "This AI Agent will be capable to remember information about:\n",
        "- the user: preferences\n",
        "- the content calendar: multiple content items with information regarding platform, deadline, etc.\n",
        "- the writing style guideline\n",
        "\n",
        "\n",
        "This notebook was based on a tutorial provided by LangChain Academy: https://colab.research.google.com/github/langchain-ai/langchain-academy/blob/main/module-5/memory_agent.ipynb"
      ],
      "metadata": {
        "id": "4DAgtZgonNXD"
      }
    },
    {
      "cell_type": "code",
      "execution_count": null,
      "metadata": {
        "id": "TxyWcphNlrJo",
        "colab": {
          "base_uri": "https://localhost:8080/"
        },
        "collapsed": true,
        "outputId": "e6960873-a78c-4245-c73d-7d9c1b8ca85d"
      },
      "outputs": [
        {
          "output_type": "stream",
          "name": "stdout",
          "text": [
            "Requirement already satisfied: trustcall in /usr/local/lib/python3.10/dist-packages (0.0.26)\n",
            "Requirement already satisfied: langchain_core in /usr/local/lib/python3.10/dist-packages (0.3.24)\n",
            "Requirement already satisfied: langchain_openai in /usr/local/lib/python3.10/dist-packages (0.2.12)\n",
            "Requirement already satisfied: langgraph in /usr/local/lib/python3.10/dist-packages (0.2.59)\n",
            "Requirement already satisfied: dydantic<0.0.8,>=0.0.7 in /usr/local/lib/python3.10/dist-packages (from trustcall) (0.0.7)\n",
            "Requirement already satisfied: jsonpatch<2.0,>=1.33 in /usr/local/lib/python3.10/dist-packages (from trustcall) (1.33)\n",
            "Requirement already satisfied: PyYAML>=5.3 in /usr/local/lib/python3.10/dist-packages (from langchain_core) (6.0.2)\n",
            "Requirement already satisfied: langsmith<0.3,>=0.1.125 in /usr/local/lib/python3.10/dist-packages (from langchain_core) (0.1.147)\n",
            "Requirement already satisfied: packaging<25,>=23.2 in /usr/local/lib/python3.10/dist-packages (from langchain_core) (24.2)\n",
            "Requirement already satisfied: pydantic<3.0.0,>=2.5.2 in /usr/local/lib/python3.10/dist-packages (from langchain_core) (2.10.3)\n",
            "Requirement already satisfied: tenacity!=8.4.0,<10.0.0,>=8.1.0 in /usr/local/lib/python3.10/dist-packages (from langchain_core) (9.0.0)\n",
            "Requirement already satisfied: typing-extensions>=4.7 in /usr/local/lib/python3.10/dist-packages (from langchain_core) (4.12.2)\n",
            "Requirement already satisfied: openai<2.0.0,>=1.55.3 in /usr/local/lib/python3.10/dist-packages (from langchain_openai) (1.57.3)\n",
            "Requirement already satisfied: tiktoken<1,>=0.7 in /usr/local/lib/python3.10/dist-packages (from langchain_openai) (0.8.0)\n",
            "Requirement already satisfied: langgraph-checkpoint<3.0.0,>=2.0.4 in /usr/local/lib/python3.10/dist-packages (from langgraph) (2.0.9)\n",
            "Requirement already satisfied: langgraph-sdk<0.2.0,>=0.1.42 in /usr/local/lib/python3.10/dist-packages (from langgraph) (0.1.44)\n",
            "Requirement already satisfied: jsonpointer>=1.9 in /usr/local/lib/python3.10/dist-packages (from jsonpatch<2.0,>=1.33->trustcall) (3.0.0)\n",
            "Requirement already satisfied: msgpack<2.0.0,>=1.1.0 in /usr/local/lib/python3.10/dist-packages (from langgraph-checkpoint<3.0.0,>=2.0.4->langgraph) (1.1.0)\n",
            "Requirement already satisfied: httpx>=0.25.2 in /usr/local/lib/python3.10/dist-packages (from langgraph-sdk<0.2.0,>=0.1.42->langgraph) (0.28.1)\n",
            "Requirement already satisfied: orjson>=3.10.1 in /usr/local/lib/python3.10/dist-packages (from langgraph-sdk<0.2.0,>=0.1.42->langgraph) (3.10.12)\n",
            "Requirement already satisfied: requests<3,>=2 in /usr/local/lib/python3.10/dist-packages (from langsmith<0.3,>=0.1.125->langchain_core) (2.32.3)\n",
            "Requirement already satisfied: requests-toolbelt<2.0.0,>=1.0.0 in /usr/local/lib/python3.10/dist-packages (from langsmith<0.3,>=0.1.125->langchain_core) (1.0.0)\n",
            "Requirement already satisfied: anyio<5,>=3.5.0 in /usr/local/lib/python3.10/dist-packages (from openai<2.0.0,>=1.55.3->langchain_openai) (3.7.1)\n",
            "Requirement already satisfied: distro<2,>=1.7.0 in /usr/local/lib/python3.10/dist-packages (from openai<2.0.0,>=1.55.3->langchain_openai) (1.9.0)\n",
            "Requirement already satisfied: jiter<1,>=0.4.0 in /usr/local/lib/python3.10/dist-packages (from openai<2.0.0,>=1.55.3->langchain_openai) (0.8.2)\n",
            "Requirement already satisfied: sniffio in /usr/local/lib/python3.10/dist-packages (from openai<2.0.0,>=1.55.3->langchain_openai) (1.3.1)\n",
            "Requirement already satisfied: tqdm>4 in /usr/local/lib/python3.10/dist-packages (from openai<2.0.0,>=1.55.3->langchain_openai) (4.66.6)\n",
            "Requirement already satisfied: annotated-types>=0.6.0 in /usr/local/lib/python3.10/dist-packages (from pydantic<3.0.0,>=2.5.2->langchain_core) (0.7.0)\n",
            "Requirement already satisfied: pydantic-core==2.27.1 in /usr/local/lib/python3.10/dist-packages (from pydantic<3.0.0,>=2.5.2->langchain_core) (2.27.1)\n",
            "Requirement already satisfied: regex>=2022.1.18 in /usr/local/lib/python3.10/dist-packages (from tiktoken<1,>=0.7->langchain_openai) (2024.9.11)\n",
            "Requirement already satisfied: idna>=2.8 in /usr/local/lib/python3.10/dist-packages (from anyio<5,>=3.5.0->openai<2.0.0,>=1.55.3->langchain_openai) (3.10)\n",
            "Requirement already satisfied: exceptiongroup in /usr/local/lib/python3.10/dist-packages (from anyio<5,>=3.5.0->openai<2.0.0,>=1.55.3->langchain_openai) (1.2.2)\n",
            "Requirement already satisfied: certifi in /usr/local/lib/python3.10/dist-packages (from httpx>=0.25.2->langgraph-sdk<0.2.0,>=0.1.42->langgraph) (2024.8.30)\n",
            "Requirement already satisfied: httpcore==1.* in /usr/local/lib/python3.10/dist-packages (from httpx>=0.25.2->langgraph-sdk<0.2.0,>=0.1.42->langgraph) (1.0.7)\n",
            "Requirement already satisfied: h11<0.15,>=0.13 in /usr/local/lib/python3.10/dist-packages (from httpcore==1.*->httpx>=0.25.2->langgraph-sdk<0.2.0,>=0.1.42->langgraph) (0.14.0)\n",
            "Requirement already satisfied: charset-normalizer<4,>=2 in /usr/local/lib/python3.10/dist-packages (from requests<3,>=2->langsmith<0.3,>=0.1.125->langchain_core) (3.4.0)\n",
            "Requirement already satisfied: urllib3<3,>=1.21.1 in /usr/local/lib/python3.10/dist-packages (from requests<3,>=2->langsmith<0.3,>=0.1.125->langchain_core) (2.2.3)\n"
          ]
        }
      ],
      "source": [
        "! pip install trustcall langchain_core langchain_openai langgraph"
      ]
    },
    {
      "cell_type": "code",
      "source": [
        "import uuid\n",
        "import os\n",
        "from typing import Literal\n",
        "from IPython.display import Image, display\n",
        "\n",
        "from datetime import datetime\n",
        "from trustcall import create_extractor\n",
        "from typing import Optional\n",
        "from pydantic import BaseModel, Field\n",
        "from typing import TypedDict, Literal\n",
        "\n",
        "from langchain_core.runnables import RunnableConfig\n",
        "from langchain_core.messages import merge_message_runs, HumanMessage, SystemMessage\n",
        "\n",
        "from langgraph.checkpoint.memory import MemorySaver\n",
        "from langgraph.graph import StateGraph, MessagesState, END, START\n",
        "from langgraph.store.base import BaseStore\n",
        "from langgraph.store.memory import InMemoryStore\n",
        "\n",
        "from langchain_openai import ChatOpenAI\n",
        "\n",
        "from google.colab import userdata"
      ],
      "metadata": {
        "id": "GSaKEHMunJ0R"
      },
      "execution_count": null,
      "outputs": []
    },
    {
      "cell_type": "code",
      "source": [
        "# Load from google secrets\n",
        "LANGCHAIN_API_KEY = userdata.get('LANGCHAIN_API_KEY')\n",
        "OPENAI_API_KEY = userdata.get('OPENAI_API_KEY')\n",
        "\n",
        "# Set variables for LangSmith Tracking\n",
        "os.environ[\"LANGCHAIN_API_KEY\"] = LANGCHAIN_API_KEY\n",
        "os.environ[\"LANGCHAIN_TRACING_V2\"] = \"true\"\n",
        "os.environ[\"LANGCHAIN_PROJECT\"] = \"langchain-academy\"\n",
        "os.environ[\"OPENAI_API_KEY\"] = OPENAI_API_KEY"
      ],
      "metadata": {
        "id": "sz2Trmrdn5Mf"
      },
      "execution_count": null,
      "outputs": []
    },
    {
      "cell_type": "markdown",
      "source": [
        "# Memory Management\n",
        "Effective memory management is the backbone of the AI agent's ability to store and recall information, adapt to user inputs, and provide a seamless experience. To achieve this, the agent uses structured schemas defined with Pydantic, ensuring consistency, validation, and scalability.\n",
        "\n",
        "In this tutorial, the AI agent relies on three key memory components:\n",
        "- the User Profile Memory,\n",
        "- the Content Calendar MemoryCollection,\n",
        "- and the Guidelines Prompt."
      ],
      "metadata": {
        "id": "kXQq9TluqEAs"
      }
    },
    {
      "cell_type": "code",
      "source": [
        "# User profile schema (Memory)\n",
        "class Profile(BaseModel):\n",
        "    \"\"\"This is the profile of the user you are chatting with\"\"\"\n",
        "    name: Optional[str] = Field(description=\"The user's name\", default=None)\n",
        "    location: Optional[str] = Field(description=\"The user's location\", default=None)\n",
        "    target_audience: Optional[str] = Field(description=\"Target audience for content creation.\", default=None)\n",
        "    preferred_platforms: list[str] = Field(description=\"User's preferred platforms for posting content.\", default_factory=list)\n",
        "\n",
        "# Content schema (MemoryCollection)\n",
        "class ContentCalendar(BaseModel):\n",
        "    \"\"\"Represents an item in the content calendar\"\"\"\n",
        "    title: str = Field(description=\"The title or topic of the content.\")\n",
        "    platform: Optional[str] = Field(description=\"The platform where the content will be posted (e.g., Instagram, Blog).\", default=None)\n",
        "    deadline: Optional[datetime] = Field(description=\"The deadline for posting the content.\", default=None)\n",
        "    status: Literal[\"idea\", \"draft\", \"review\", \"posted\"] = Field(description=\"The current status of the content.\", default=\"idea\")\n",
        "    tags: list[str] = Field(description=\"Tags or topics associated with the content.\", default_factory=list)\n",
        "    idea: str = Field(description=\"General idea of the content item\", default=None)\n",
        "\n",
        "# Guidelines Prompt\n",
        "CREATE_GUIDELINES = \"\"\"Reflect on the following interaction.\n",
        "\n",
        "Based on this interaction, update your guidelines for content creation.\n",
        "\n",
        "Use any feedback from the user to update how they like to brainstorm, organize, or track content.\n",
        "\n",
        "Your current instructions are:\n",
        "\n",
        "<guidelines>\n",
        "{guidelines}\n",
        "</guidelines>\"\"\""
      ],
      "metadata": {
        "id": "rLkabHqaqPIG"
      },
      "execution_count": null,
      "outputs": []
    },
    {
      "cell_type": "markdown",
      "source": [
        "## How Trustcall Tracks and Updates Memory\n",
        "With the memory components in place to store information, we also need a system to dynamically update and add memories. For this, we use Trustcall, a framework designed for structured updates to JSON schemas."
      ],
      "metadata": {
        "id": "p1xyqZNAtpTV"
      }
    },
    {
      "cell_type": "code",
      "source": [
        "from trustcall import create_extractor\n",
        "\n",
        "# Inspect the tool calls made by Trustcall\n",
        "class Spy:\n",
        "    def __init__(self):\n",
        "        self.called_tools = []\n",
        "\n",
        "    def __call__(self, run):\n",
        "        # Collect information about the tool calls made by the extractor.\n",
        "        q = [run]\n",
        "        while q:\n",
        "            r = q.pop()\n",
        "            if r.child_runs:\n",
        "                q.extend(r.child_runs)\n",
        "            if r.run_type == \"chat_model\":\n",
        "                self.called_tools.append(\n",
        "                    r.outputs[\"generations\"][0][0][\"message\"][\"kwargs\"][\"tool_calls\"]\n",
        "                )\n",
        "\n",
        "# Initialize the spy\n",
        "spy = Spy()\n",
        "\n",
        "# Initialize the model\n",
        "model = ChatOpenAI(model=\"gpt-4o\", temperature=0)\n",
        "\n",
        "# Create the profile extractor\n",
        "profile_extractor = create_extractor(\n",
        "    model,\n",
        "    tools=[Profile],\n",
        "    tool_choice=\"Profile\",\n",
        ")\n",
        "\n",
        "# Create the content extractor\n",
        "content_extractor = create_extractor(\n",
        "    model,\n",
        "    tools=[ContentCalendar],\n",
        "    tool_choice=\"ContentCalendar\",\n",
        "    enable_inserts=True).with_listeners(on_end=spy)"
      ],
      "metadata": {
        "id": "we0bpkCZtq1D"
      },
      "execution_count": null,
      "outputs": []
    },
    {
      "cell_type": "markdown",
      "source": [
        "### Example to show you how it works\n",
        "\n",
        "In this examples, we illustrate a conversation between a human and the AI Agent.\n",
        "Here we initiate the conversation providing info about the next Medium article we will publish."
      ],
      "metadata": {
        "id": "bqvxAcP4ucEr"
      }
    },
    {
      "cell_type": "code",
      "source": [
        "from langchain_core.messages import HumanMessage, SystemMessage, AIMessage\n",
        "\n",
        "# Instruction\n",
        "instruction = \"\"\"Extract information about the content calendar using this conversation:\"\"\"\n",
        "\n",
        "# Conversation\n",
        "conversation = [HumanMessage(content=\"Hi, I'm Lore.\"),\n",
        "                AIMessage(content=\"Nice to meet you, Lore.\"),\n",
        "                HumanMessage(content=\"I want to write a Medium article about LangGraph AI Agents.\")]\n",
        "\n",
        "# Invoke the extractor\n",
        "result = content_extractor.invoke({\"messages\": [SystemMessage(content=instruction)] + conversation})"
      ],
      "metadata": {
        "id": "P77ZWylpufoM"
      },
      "execution_count": null,
      "outputs": []
    },
    {
      "cell_type": "markdown",
      "source": [
        "In the results of the content_extractor we can observe the tool calls that are made => we can see that our ContentCalendar memory class was updated."
      ],
      "metadata": {
        "id": "NNleRBgnzNUE"
      }
    },
    {
      "cell_type": "code",
      "source": [
        "# Messages contain the tool calls\n",
        "for m in result[\"messages\"]:\n",
        "    m.pretty_print()"
      ],
      "metadata": {
        "colab": {
          "base_uri": "https://localhost:8080/"
        },
        "id": "aIlTWc3zw0Q7",
        "outputId": "2afc96c7-f5d6-4f1b-e931-f882e141afd3"
      },
      "execution_count": null,
      "outputs": [
        {
          "output_type": "stream",
          "name": "stdout",
          "text": [
            "==================================\u001b[1m Ai Message \u001b[0m==================================\n",
            "Tool Calls:\n",
            "  ContentCalendar (call_K3eS9xgGeHJxPWtTmukkAjMF)\n",
            " Call ID: call_K3eS9xgGeHJxPWtTmukkAjMF\n",
            "  Args:\n",
            "    title: LangGraph AI Agents\n",
            "    platform: Medium\n",
            "    status: idea\n",
            "    tags: ['AI', 'LangGraph', 'Technology']\n",
            "    idea: Write an article about LangGraph AI Agents, exploring their features, applications, and potential impact on the industry.\n"
          ]
        }
      ]
    },
    {
      "cell_type": "markdown",
      "source": [
        "We can also observe this in our Spy class."
      ],
      "metadata": {
        "id": "ydtcgZ-V1Ji9"
      }
    },
    {
      "cell_type": "code",
      "source": [
        "# Inspect the tool calls made by Trustcall\n",
        "spy.called_tools"
      ],
      "metadata": {
        "colab": {
          "base_uri": "https://localhost:8080/"
        },
        "id": "SVh7MU_AxtED",
        "outputId": "39487cde-aa6e-4f80-8fcf-086ec25b9924"
      },
      "execution_count": null,
      "outputs": [
        {
          "output_type": "execute_result",
          "data": {
            "text/plain": [
              "[[{'name': 'ContentCalendar',\n",
              "   'args': {'title': 'LangGraph AI Agents',\n",
              "    'platform': 'Medium',\n",
              "    'status': 'idea',\n",
              "    'tags': ['AI', 'LangGraph', 'Technology'],\n",
              "    'idea': 'Write an article about LangGraph AI Agents, exploring their features, applications, and potential impact on the industry.'},\n",
              "   'id': 'call_K3eS9xgGeHJxPWtTmukkAjMF',\n",
              "   'type': 'tool_call'}]]"
            ]
          },
          "metadata": {},
          "execution_count": 8
        }
      ]
    },
    {
      "cell_type": "markdown",
      "source": [
        "We will now update our information about the new Medium article and provide info on the deadline."
      ],
      "metadata": {
        "id": "Q39496wm1N3y"
      }
    },
    {
      "cell_type": "code",
      "source": [
        "# Update the conversation\n",
        "updated_conversation = [AIMessage(content=\"Oke great I added it to the content calendar\"),\n",
        "                        HumanMessage(content=\"Thanks! I want to publish it on Friday next week\")]\n",
        "\n",
        "# Update the instruction\n",
        "system_msg = \"\"\"Update existing memories and create new ones based on the following conversation:\"\"\"\n",
        "\n",
        "# We'll save existing memories, giving them an ID, key (tool name), and value\n",
        "tool_name = \"ContentCalendar\"\n",
        "existing_memories = [(str(i), tool_name, memory.model_dump()) for i, memory in enumerate(result[\"responses\"])] if result[\"responses\"] else None\n",
        "\n",
        "# Invoke the extractor with our updated conversation and existing memories\n",
        "result = content_extractor.invoke({\"messages\": updated_conversation,\n",
        "                                                        \"existing\": existing_memories})"
      ],
      "metadata": {
        "id": "14yWyYRJxy4e"
      },
      "execution_count": null,
      "outputs": []
    },
    {
      "cell_type": "markdown",
      "source": [
        "We can see that a tool call was made to update the ContentCalendar memory object and the deadline date was added."
      ],
      "metadata": {
        "id": "IlVfoms01xAi"
      }
    },
    {
      "cell_type": "code",
      "source": [
        "# Messages contain the tool calls\n",
        "for m in result[\"messages\"]:\n",
        "    m.pretty_print()"
      ],
      "metadata": {
        "colab": {
          "base_uri": "https://localhost:8080/"
        },
        "id": "WaNQOiGQyb1s",
        "outputId": "d5544ba3-6b04-40e0-e848-218142c98a90"
      },
      "execution_count": null,
      "outputs": [
        {
          "output_type": "stream",
          "name": "stdout",
          "text": [
            "==================================\u001b[1m Ai Message \u001b[0m==================================\n",
            "Tool Calls:\n",
            "  ContentCalendar (call_qAHToXLJ9wWOvsgOtrF9t1X7)\n",
            " Call ID: call_qAHToXLJ9wWOvsgOtrF9t1X7\n",
            "  Args:\n",
            "    title: LangGraph AI Agents\n",
            "    platform: Medium\n",
            "    deadline: 2023-11-10T00:00:00Z\n",
            "    status: idea\n",
            "    tags: ['AI', 'LangGraph', 'Technology']\n",
            "    idea: Write an article about LangGraph AI Agents, exploring their features, applications, and potential impact on the industry.\n"
          ]
        }
      ]
    },
    {
      "cell_type": "code",
      "source": [],
      "metadata": {
        "id": "a939rxmm2D5Z"
      },
      "execution_count": null,
      "outputs": []
    },
    {
      "cell_type": "markdown",
      "source": [
        "When inspecting our Spy class we can see that a PatchDoc was performed stating that the 'deadline' field with the date for Friday next week"
      ],
      "metadata": {
        "id": "3leB_wsv14qF"
      }
    },
    {
      "cell_type": "code",
      "source": [
        "# Inspect the tool calls made by Trustcall\n",
        "spy.called_tools"
      ],
      "metadata": {
        "colab": {
          "base_uri": "https://localhost:8080/"
        },
        "id": "lOljQEKdygzB",
        "outputId": "ff626e31-8b8b-4181-c2ca-24b56b651dd9"
      },
      "execution_count": null,
      "outputs": [
        {
          "output_type": "execute_result",
          "data": {
            "text/plain": [
              "[[{'name': 'ContentCalendar',\n",
              "   'args': {'title': 'LangGraph AI Agents',\n",
              "    'platform': 'Medium',\n",
              "    'status': 'idea',\n",
              "    'tags': ['AI', 'LangGraph', 'Technology'],\n",
              "    'idea': 'Write an article about LangGraph AI Agents, exploring their features, applications, and potential impact on the industry.'},\n",
              "   'id': 'call_K3eS9xgGeHJxPWtTmukkAjMF',\n",
              "   'type': 'tool_call'}],\n",
              " [{'name': 'PatchDoc',\n",
              "   'args': {'json_doc_id': '0',\n",
              "    'planned_edits': \"Set the 'deadline' field to the date of Friday next week. This involves calculating the date and updating the 'deadline' field in the ContentCalendar schema.\",\n",
              "    'patches': [{'op': 'replace',\n",
              "      'path': '/deadline',\n",
              "      'value': '2023-11-10T00:00:00Z'}]},\n",
              "   'id': 'call_qAHToXLJ9wWOvsgOtrF9t1X7',\n",
              "   'type': 'tool_call'}]]"
            ]
          },
          "metadata": {},
          "execution_count": 11
        }
      ]
    },
    {
      "cell_type": "markdown",
      "source": [
        "## Reformatting Spy Output\n",
        "To better understand and use the information captured by the Spy class, we will define a custom function, extract_tool_info, to process and reformat the output from spy.called_tools. This reformatted data can also be integrated into prompts for a language model, providing more context for informed responses."
      ],
      "metadata": {
        "id": "lET1owmO2am1"
      }
    },
    {
      "cell_type": "code",
      "source": [
        "def extract_tool_info(tool_calls, schema_name=\"Memory\"):\n",
        "    \"\"\"Extract information from tool calls for both patches and new memories.\n",
        "\n",
        "    Args:\n",
        "        tool_calls: List of tool calls from the model\n",
        "        schema_name: Name of the schema tool (e.g., \"Memory\", \"ToDo\", \"Profile\")\n",
        "    \"\"\"\n",
        "\n",
        "    # Initialize list of changes\n",
        "    changes = []\n",
        "\n",
        "    for call_group in tool_calls:\n",
        "        for call in call_group:\n",
        "            if call['name'] == 'PatchDoc':\n",
        "                changes.append({\n",
        "                    'type': 'update',\n",
        "                    'doc_id': call['args']['json_doc_id'],\n",
        "                    'planned_edits': call['args']['planned_edits'],\n",
        "                    'value': call['args']['patches'][0]['value']\n",
        "                })\n",
        "            elif call['name'] == schema_name:\n",
        "                changes.append({\n",
        "                    'type': 'new',\n",
        "                    'value': call['args']\n",
        "                })\n",
        "\n",
        "    # Format results as a single string\n",
        "    result_parts = []\n",
        "    for change in changes:\n",
        "        if change['type'] == 'update':\n",
        "            result_parts.append(\n",
        "                f\"Document {change['doc_id']} updated:\\n\"\n",
        "                f\"Plan: {change['planned_edits']}\\n\"\n",
        "                f\"Added content: {change['value']}\"\n",
        "            )\n",
        "        else:\n",
        "            result_parts.append(\n",
        "                f\"New {schema_name} created:\\n\"\n",
        "                f\"Content: {change['value']}\"\n",
        "            )\n",
        "\n",
        "    return \"\\n\\n\".join(result_parts)"
      ],
      "metadata": {
        "id": "F7P_nU8p2g-s"
      },
      "execution_count": null,
      "outputs": []
    },
    {
      "cell_type": "markdown",
      "source": [
        "### Example to illustrate the extract_tool_info function\n",
        "We can see that the extract_tool_info function obtains the relevant information from the spy.called_tools output and formats it in a readable way."
      ],
      "metadata": {
        "id": "7Q2RbkhU2rfP"
      }
    },
    {
      "cell_type": "code",
      "source": [
        "# Inspect spy.called_tools to see exactly what happened during the extraction\n",
        "schema_name = \"ContentCalendar\"\n",
        "changes = extract_tool_info(spy.called_tools, schema_name)\n",
        "print(changes)"
      ],
      "metadata": {
        "colab": {
          "base_uri": "https://localhost:8080/"
        },
        "id": "2kgBZ1Xm2tUa",
        "outputId": "69acce00-f144-4c53-f702-77b0a870fbbd"
      },
      "execution_count": null,
      "outputs": [
        {
          "output_type": "stream",
          "name": "stdout",
          "text": [
            "New ContentCalendar created:\n",
            "Content: {'title': 'LangGraph AI Agents', 'platform': 'Medium', 'status': 'idea', 'tags': ['AI', 'LangGraph', 'Technology'], 'idea': 'Write an article about LangGraph AI Agents, exploring their features, applications, and potential impact on the industry.'}\n",
            "\n",
            "Document 0 updated:\n",
            "Plan: Set the 'deadline' field to the date of Friday next week. This involves calculating the date and updating the 'deadline' field in the ContentCalendar schema.\n",
            "Added content: 2023-11-10T00:00:00Z\n"
          ]
        }
      ]
    },
    {
      "cell_type": "markdown",
      "source": [
        "# The Graph\n",
        "## Analyze User Input - content_generAItor"
      ],
      "metadata": {
        "id": "UdYnU6sZUfOh"
      }
    },
    {
      "cell_type": "code",
      "source": [
        "# UpdateMemory schema\n",
        "class UpdateMemory(TypedDict):\n",
        "    \"\"\" Decision on what memory type to update \"\"\"\n",
        "    update_type: Literal['user', 'content_calendar', 'guidelines']\n",
        "\n",
        "#main function\n",
        "def content_generAItor(state: MessagesState, config: RunnableConfig, store: BaseStore):\n",
        "    user_id = config[\"configurable\"][\"user_id\"]\n",
        "\n",
        "    # Retrieve memories\n",
        "    profile_memories = store.search((\"profile\", user_id))\n",
        "    user_profile = profile_memories[0].value if profile_memories else None\n",
        "\n",
        "    calendar_memories = store.search((\"content_calendar\", user_id))\n",
        "    content_calendar = \"\\n\".join(f\"{item.value}\" for item in calendar_memories)\n",
        "\n",
        "    guidelines_memories = store.search((\"guidelines\", user_id))\n",
        "    guidelines = guidelines_memories[0].value if guidelines_memories else \"\"\n",
        "\n",
        "    # Prepare the system message\n",
        "    system_msg = MODEL_SYSTEM_MESSAGE.format(\n",
        "        user_profile=user_profile,\n",
        "        content_calendar=content_calendar,\n",
        "        guidelines=guidelines\n",
        "    )\n",
        "\n",
        "    # Generate a response\n",
        "    response = model.bind_tools([UpdateMemory], parallel_tool_calls=False).invoke(\n",
        "        [SystemMessage(content=system_msg)] + state[\"messages\"]\n",
        "    )\n",
        "    return {\"messages\": [response]}\n",
        "\n",
        "# Chatbot instruction for the content creation assistant\n",
        "MODEL_SYSTEM_MESSAGE = \"\"\"You are a helpful content creation assistant.\n",
        "\n",
        "Your role is to help the user brainstorm, organize, and track content ideas for various platforms.\n",
        "\n",
        "You maintain three types of memory:\n",
        "1. The user's profile (general preferences for content creation).\n",
        "2. A content calendar with ideas, deadlines, statuses, and drafts.\n",
        "3. Guidelines for creating content based on user feedback.\n",
        "\n",
        "Here is the current User Profile:\n",
        "<user_profile>\n",
        "{user_profile}\n",
        "</user_profile>\n",
        "\n",
        "Here is the current Content Calendar:\n",
        "<content_calendar>\n",
        "{content_calendar}\n",
        "</content_calendar>\n",
        "\n",
        "Here are the current content creation guidelines:\n",
        "<guidelines>\n",
        "{guidelines}\n",
        "</guidelines>\n",
        "\n",
        "Here are your instructions for reasoning about the user's messages:\n",
        "\n",
        "1. Reason carefully about the user's messages as presented below.\n",
        "\n",
        "2. Decide whether any of the your long-term memory should be updated:\n",
        "- If personal information was provided about the user, update the user's profile by calling UpdateMemory tool with type `user`\n",
        "- If content creations are mentioned, update the ContentCalendar list by calling UpdateMemory tool with type `content_calendar`\n",
        "- If the user has specified preferences for how to update the ContentCalendar list, update the instructions by calling UpdateMemory tool with type `guidelines`\n",
        "\n",
        "3. Tell the user that you have updated your memory, if appropriate:\n",
        "- Do not tell the user you have updated the user's profile\n",
        "- Tell the user them when you update the ContentCalendar list\n",
        "- Do not tell the user that you have updated guidelines\n",
        "\n",
        "4. Err on the side of updating the ContentCalendar list. No need to ask for explicit permission.\n",
        "\n",
        "5. Respond naturally to user user after a tool call was made to save memories, or if no tool call was made.\n",
        "\"\"\""
      ],
      "metadata": {
        "id": "XFJ8l14eUfkT"
      },
      "execution_count": null,
      "outputs": []
    },
    {
      "cell_type": "markdown",
      "source": [
        "## Determine the Update Type"
      ],
      "metadata": {
        "id": "JB8QW6ZFVzIq"
      }
    },
    {
      "cell_type": "code",
      "source": [
        "def route_message(state: MessagesState, config: RunnableConfig, store: BaseStore) -> Literal[END, \"update_content_calendar\", \"update_guidelines\", \"update_profile\"]:\n",
        "    \"\"\"Reflect on the memories and chat history to decide whether to update the memory collection.\"\"\"\n",
        "    message = state['messages'][-1]\n",
        "    if len(message.tool_calls) == 0:\n",
        "        return END\n",
        "    else:\n",
        "        tool_call = message.tool_calls[0]\n",
        "        if tool_call['args']['update_type'] == \"user\":\n",
        "            return \"update_profile\"\n",
        "        elif tool_call['args']['update_type'] == \"content_calendar\":\n",
        "            return \"update_content_calendar\"\n",
        "        elif tool_call['args']['update_type'] == \"guidelines\":\n",
        "            return \"update_guidelines\"\n",
        "        else:\n",
        "            raise ValueError"
      ],
      "metadata": {
        "id": "N6dJuvvpVqpn"
      },
      "execution_count": null,
      "outputs": []
    },
    {
      "cell_type": "markdown",
      "source": [
        "## Tools Definition"
      ],
      "metadata": {
        "id": "duDdgcz7WIA1"
      }
    },
    {
      "cell_type": "code",
      "source": [
        "# Trustcall prompt\n",
        "TRUSTCALL_INSTRUCTION = \"\"\"Reflect on the following interaction.\n",
        "\n",
        "Use the provided tools to retain any necessary memories about the user.\n",
        "\n",
        "System Time: {time}\"\"\"\n",
        "\n",
        "def update_profile(state: MessagesState, config: RunnableConfig, store: BaseStore):\n",
        "    \"\"\"Reflect on the chat history and update the memory collection.\"\"\"\n",
        "\n",
        "    # Get the user ID and define the namespace\n",
        "    user_id = config[\"configurable\"][\"user_id\"]\n",
        "    namespace = (\"profile\", user_id)\n",
        "\n",
        "    # Retrieve existing profile memories\n",
        "    existing_items = store.search(namespace)\n",
        "    tool_name = \"Profile\"\n",
        "    existing_memories = ([(item.key, tool_name, item.value) for item in existing_items] if existing_items else None)\n",
        "\n",
        "    # Format the instruction and merge with chat history\n",
        "    TRUSTCALL_INSTRUCTION_FORMATTED = TRUSTCALL_INSTRUCTION.format(time=datetime.now().isoformat())\n",
        "    updated_messages = list(merge_message_runs(messages=[SystemMessage(content=TRUSTCALL_INSTRUCTION_FORMATTED)] + state[\"messages\"][:-1]))\n",
        "\n",
        "    # Extract updates and save to the store\n",
        "    result = profile_extractor.invoke({\"messages\": updated_messages, \"existing\": existing_memories})\n",
        "    for r, rmeta in zip(result[\"responses\"], result[\"response_metadata\"]):\n",
        "        store.put(namespace, rmeta.get(\"json_doc_id\", str(uuid.uuid4())), r.model_dump(mode=\"json\"))\n",
        "\n",
        "    tool_calls = state['messages'][-1].tool_calls\n",
        "    return {\"messages\": [{\"role\": \"tool\", \"content\": \"updated profile\", \"tool_call_id\": tool_calls[0]['id']}]}\n",
        "\n",
        "def update_content_calendar(state: MessagesState, config: RunnableConfig, store: BaseStore):\n",
        "    user_id = config[\"configurable\"][\"user_id\"]\n",
        "    namespace = (\"content_calendar\", user_id)\n",
        "\n",
        "    existing_items = store.search(namespace)\n",
        "    tool_name = \"ContentCalendar\"\n",
        "    existing_memories = [(item.key, tool_name, item.value) for item in existing_items] if existing_items else None\n",
        "\n",
        "    TRUSTCALL_INSTRUCTION_FORMATTED = TRUSTCALL_INSTRUCTION.format(time=datetime.now().isoformat())\n",
        "    updated_messages = merge_message_runs([SystemMessage(content=TRUSTCALL_INSTRUCTION_FORMATTED)] + state[\"messages\"][:-1])\n",
        "\n",
        "    # Extract updates and save to the store\n",
        "    result = content_extractor.invoke({\"messages\": updated_messages, \"existing\": existing_memories})\n",
        "\n",
        "    for r, rmeta in zip(result[\"responses\"], result[\"response_metadata\"]):\n",
        "        store.put(namespace, rmeta.get(\"json_doc_id\", str(uuid.uuid4())), r.model_dump(mode=\"json\"))\n",
        "    tool_calls = state['messages'][-1].tool_calls\n",
        "\n",
        "    # Extract the changes made by Trustcall and add the the ToolMessage returned to task_mAIstro\n",
        "    content_calendar_update_msg = extract_tool_info(spy.called_tools, tool_name)\n",
        "    return {\"messages\": [{\"role\": \"tool\", \"content\": content_calendar_update_msg, \"tool_call_id\":tool_calls[0]['id']}]}\n",
        "\n",
        "# Instructions for updating the Content Calendar list\n",
        "CREATE_INSTRUCTIONS = \"\"\"Reflect on the following interaction.\n",
        "\n",
        "Based on this interaction, update your instructions for how to update ContentCalendar list items.\n",
        "\n",
        "Use any feedback from the user to update how they like to have items added, etc.\n",
        "\n",
        "Your current guidelines are:\n",
        "\n",
        "<guidelines>\n",
        "{guidelines}\n",
        "</guidelines>\"\"\"\n",
        "\n",
        "def update_guidelines(state: MessagesState, config: RunnableConfig, store: BaseStore):\n",
        "    user_id = config[\"configurable\"][\"user_id\"]\n",
        "    namespace = (\"guidelines\", user_id)\n",
        "\n",
        "    existing_memory = store.get(namespace, \"content_guidelines\")\n",
        "    system_msg = CREATE_INSTRUCTIONS.format(guidelines=existing_memory.value if existing_memory else None)\n",
        "\n",
        "    new_memory = model.invoke([SystemMessage(content=system_msg)] + state[\"messages\"][:-1] + [HumanMessage(content=\"Please update the guidelines.\")])\n",
        "    store.put(namespace, \"content_guidelines\", {\"memory\": new_memory.content})\n",
        "\n",
        "    tool_calls = state['messages'][-1].tool_calls\n",
        "    return {\"messages\": [{\"role\": \"tool\", \"content\": \"updated guidelines\", \"tool_call_id\":tool_calls[0]['id']}]}"
      ],
      "metadata": {
        "id": "llPQ43MzWOSJ"
      },
      "execution_count": null,
      "outputs": []
    },
    {
      "cell_type": "markdown",
      "source": [
        "## The Graph"
      ],
      "metadata": {
        "id": "voZhQxU3YUMx"
      }
    },
    {
      "cell_type": "code",
      "source": [
        "# Graph setup\n",
        "builder = StateGraph(MessagesState)\n",
        "\n",
        "# Add nodes to the graph\n",
        "builder.add_node(content_generAItor)  # Central node for generating responses\n",
        "builder.add_node(update_profile)  # Node for updating the user profile\n",
        "builder.add_node(update_content_calendar)  # Node for updating the content calendar\n",
        "builder.add_node(update_guidelines)  # Node for refining content guidelines\n",
        "\n",
        "# Define the flow between nodes\n",
        "builder.add_edge(START, \"content_generAItor\")  # Start at the content generator\n",
        "builder.add_conditional_edges(\"content_generAItor\", route_message)  # Route based on user input\n",
        "builder.add_edge(\"update_profile\", \"content_generAItor\")  # Return to generator after profile update\n",
        "builder.add_edge(\"update_content_calendar\", \"content_generAItor\")  # Return after calendar update\n",
        "builder.add_edge(\"update_guidelines\", \"content_generAItor\")  # Return after guidelines update\n",
        "\n",
        "# Memory stores\n",
        "across_thread_memory = InMemoryStore()\n",
        "within_thread_memory = MemorySaver()\n",
        "\n",
        "# Compile the graph\n",
        "graph = builder.compile(checkpointer=within_thread_memory, store=across_thread_memory)"
      ],
      "metadata": {
        "id": "iDS5LfWuYTuS"
      },
      "execution_count": null,
      "outputs": []
    },
    {
      "cell_type": "code",
      "source": [
        "# View\n",
        "display(Image(graph.get_graph(xray=1).draw_mermaid_png()))"
      ],
      "metadata": {
        "colab": {
          "base_uri": "https://localhost:8080/",
          "height": 266
        },
        "id": "7SCWXRgyZcNx",
        "outputId": "46619140-8661-4cce-cc17-6b6df0d38532"
      },
      "execution_count": null,
      "outputs": [
        {
          "output_type": "display_data",
          "data": {
            "image/png": "[encoded data removed]",
            "text/plain": [
              "<IPython.core.display.Image object>"
            ]
          },
          "metadata": {}
        }
      ]
    },
    {
      "cell_type": "markdown",
      "source": [
        "# Testing our AI Agent"
      ],
      "metadata": {
        "id": "owf4Wi-Vaq1O"
      }
    },
    {
      "cell_type": "code",
      "source": [
        "# We supply a thread ID for short-term (within-thread) memory\n",
        "# We supply a user ID for long-term (across-thread) memory\n",
        "config = {\"configurable\": {\"thread_id\": \"1\", \"user_id\": \"Lore\"}}\n",
        "\n",
        "# User input to create a profile memory\n",
        "input_messages = [HumanMessage(content=\"My name is Lore. I live in Ghent. I have 2 cats. I write articles for Medium and create YouTube tutorials mostly targetting developers that want to learn how to build generative AI apps\")]\n",
        "\n",
        "# Run the graph\n",
        "for chunk in graph.stream({\"messages\": input_messages}, config, stream_mode=\"values\"):\n",
        "    chunk[\"messages\"][-1].pretty_print()"
      ],
      "metadata": {
        "colab": {
          "base_uri": "https://localhost:8080/"
        },
        "id": "Jlh8EoZ-anwR",
        "outputId": "3153a44f-7a98-469d-ff1f-aa6cdf631cb7",
        "collapsed": true
      },
      "execution_count": null,
      "outputs": [
        {
          "output_type": "stream",
          "name": "stdout",
          "text": [
            "================================\u001b[1m Human Message \u001b[0m=================================\n",
            "\n",
            "My name is Lore. I live in Ghent. I have 2 cats. I write articles for Medium and create YouTube tutorials mostly targetting developers that want to learn how to build generative AI apps\n",
            "==================================\u001b[1m Ai Message \u001b[0m==================================\n",
            "Tool Calls:\n",
            "  UpdateMemory (call_SUcNokGT5ag2k9kpqGjxNpwd)\n",
            " Call ID: call_SUcNokGT5ag2k9kpqGjxNpwd\n",
            "  Args:\n",
            "    update_type: user\n",
            "=================================\u001b[1m Tool Message \u001b[0m=================================\n",
            "\n",
            "updated profile\n",
            "==================================\u001b[1m Ai Message \u001b[0m==================================\n",
            "\n",
            "Got it! If you have any content ideas or need help organizing your content calendar, feel free to let me know.\n"
          ]
        }
      ]
    },
    {
      "cell_type": "markdown",
      "source": [
        "When examining our Profile schema we can see that the AI Agent has stored the information in the relevant fields."
      ],
      "metadata": {
        "id": "wm88_Gxra37k"
      }
    },
    {
      "cell_type": "code",
      "source": [
        "# Check for updated instructions\n",
        "user_id = \"Lore\"\n",
        "\n",
        "# Search\n",
        "for memory in across_thread_memory.search((\"profile\", user_id)):\n",
        "    print(memory.value)"
      ],
      "metadata": {
        "colab": {
          "base_uri": "https://localhost:8080/"
        },
        "id": "dxrs97r6a7bW",
        "outputId": "66301f63-b222-40a9-c42d-1702f19d8dc8"
      },
      "execution_count": null,
      "outputs": [
        {
          "output_type": "stream",
          "name": "stdout",
          "text": [
            "{'name': 'Lore', 'location': 'Ghent', 'target_audience': 'developers that want to learn how to build generative AI apps', 'preferred_platforms': ['Medium', 'YouTube']}\n"
          ]
        }
      ]
    },
    {
      "cell_type": "markdown",
      "source": [
        "Let's now add a piece of content to our content calendar."
      ],
      "metadata": {
        "id": "h4QC1BUrbeaC"
      }
    },
    {
      "cell_type": "code",
      "source": [
        "# User input for Content Item\n",
        "input_messages = [HumanMessage(content=\"I want to write an article about AI agents to post next Friday.\")]\n",
        "\n",
        "# Run the graph\n",
        "for chunk in graph.stream({\"messages\": input_messages}, config, stream_mode=\"values\"):\n",
        "    chunk[\"messages\"][-1].pretty_print()"
      ],
      "metadata": {
        "colab": {
          "base_uri": "https://localhost:8080/"
        },
        "id": "qOUSWzpwbmfN",
        "outputId": "d8631fba-4f37-405d-eeb7-6105d8359d6e"
      },
      "execution_count": null,
      "outputs": [
        {
          "output_type": "stream",
          "name": "stdout",
          "text": [
            "================================\u001b[1m Human Message \u001b[0m=================================\n",
            "\n",
            "I want to write an article about AI agents to post next Friday.\n",
            "==================================\u001b[1m Ai Message \u001b[0m==================================\n",
            "Tool Calls:\n",
            "  UpdateMemory (call_6EDErnmulIptJcsucPSg7FWK)\n",
            " Call ID: call_6EDErnmulIptJcsucPSg7FWK\n",
            "  Args:\n",
            "    update_type: content_calendar\n",
            "=================================\u001b[1m Tool Message \u001b[0m=================================\n",
            "\n",
            "New ContentCalendar created:\n",
            "Content: {'title': 'LangGraph AI Agents', 'platform': 'Medium', 'status': 'idea', 'tags': ['AI', 'LangGraph', 'Technology'], 'idea': 'Write an article about LangGraph AI Agents, exploring their features, applications, and potential impact on the industry.'}\n",
            "\n",
            "Document 0 updated:\n",
            "Plan: Set the 'deadline' field to the date of Friday next week. This involves calculating the date and updating the 'deadline' field in the ContentCalendar schema.\n",
            "Added content: 2023-11-10T00:00:00Z\n",
            "\n",
            "New ContentCalendar created:\n",
            "Content: {'title': 'AI Agents', 'platform': 'Medium', 'deadline': '2024-12-20T00:00:00', 'status': 'idea', 'tags': ['AI', 'agents', 'generative AI'], 'idea': 'An article exploring the concept of AI agents, their applications, and how they can be used in building generative AI apps.'}\n",
            "==================================\u001b[1m Ai Message \u001b[0m==================================\n",
            "\n",
            "I've updated your content calendar with the article about AI agents, scheduled for next Friday. If you need any help with drafting or organizing your ideas, just let me know!\n"
          ]
        }
      ]
    },
    {
      "cell_type": "markdown",
      "source": [
        "We can see that a new item was added to our content calendar."
      ],
      "metadata": {
        "id": "hOPFGeFKbnmb"
      }
    },
    {
      "cell_type": "code",
      "source": [
        "# Check for updated instructions\n",
        "user_id = \"Lore\"\n",
        "\n",
        "# Search\n",
        "for memory in across_thread_memory.search((\"content_calendar\", user_id)):\n",
        "    print(memory)\n",
        "    print(memory.value)"
      ],
      "metadata": {
        "colab": {
          "base_uri": "https://localhost:8080/"
        },
        "id": "FxFKRIQnbuVU",
        "outputId": "7d344d61-9806-4a68-c188-776bc44a7388"
      },
      "execution_count": null,
      "outputs": [
        {
          "output_type": "stream",
          "name": "stdout",
          "text": [
            "Item(namespace=['content_calendar', 'Lore'], key='b0cfc12d-ff3c-4b62-ae90-35d001de5f5f', value={'title': 'AI Agents', 'platform': 'Medium', 'deadline': '2024-12-20T00:00:00', 'status': 'idea', 'tags': ['AI', 'agents', 'generative AI'], 'idea': 'An article exploring the concept of AI agents, their applications, and how they can be used in building generative AI apps.'}, created_at='2024-12-13T14:48:11.765441+00:00', updated_at='2024-12-13T14:48:11.765443+00:00', score=None)\n",
            "{'title': 'AI Agents', 'platform': 'Medium', 'deadline': '2024-12-20T00:00:00', 'status': 'idea', 'tags': ['AI', 'agents', 'generative AI'], 'idea': 'An article exploring the concept of AI agents, their applications, and how they can be used in building generative AI apps.'}\n"
          ]
        }
      ]
    },
    {
      "cell_type": "markdown",
      "source": [
        "We can now use this AI Agent to list our planned content items."
      ],
      "metadata": {
        "id": "zjDXbY23b0mv"
      }
    },
    {
      "cell_type": "code",
      "source": [
        "# User input for Content Item\n",
        "input_messages = [HumanMessage(content=\"can you list all my content for next week?\")]\n",
        "\n",
        "# Run the graph\n",
        "for chunk in graph.stream({\"messages\": input_messages}, config, stream_mode=\"values\"):\n",
        "    chunk[\"messages\"][-1].pretty_print()"
      ],
      "metadata": {
        "colab": {
          "base_uri": "https://localhost:8080/"
        },
        "id": "KsaqMmF0b43D",
        "outputId": "29584fd2-51c4-42c6-dd27-37091fb67414"
      },
      "execution_count": null,
      "outputs": [
        {
          "output_type": "stream",
          "name": "stdout",
          "text": [
            "================================\u001b[1m Human Message \u001b[0m=================================\n",
            "\n",
            "can you list all my content for next week?\n",
            "==================================\u001b[1m Ai Message \u001b[0m==================================\n",
            "\n",
            "Here's what you have scheduled for next week:\n",
            "\n",
            "1. **Title:** AI Agents\n",
            "   - **Platform:** Medium\n",
            "   - **Deadline:** Friday, November 10, 2023\n",
            "   - **Status:** Idea\n",
            "   - **Tags:** AI, agents, generative AI\n",
            "   - **Idea:** An article exploring the concept of AI agents, their applications, and how they can be used in building generative AI apps.\n",
            "\n",
            "If there's anything else you need or if you want to add more content, feel free to let me know!\n"
          ]
        }
      ]
    },
    {
      "cell_type": "markdown",
      "source": [
        "Or to help us with drafting pieces of content."
      ],
      "metadata": {
        "id": "0D8uxYq0b5_H"
      }
    },
    {
      "cell_type": "code",
      "source": [
        "# User input for Content Item\n",
        "input_messages = [HumanMessage(content=\"can you help me with my Medium article for next friday.\")]\n",
        "\n",
        "# Run the graph\n",
        "for chunk in graph.stream({\"messages\": input_messages}, config, stream_mode=\"values\"):\n",
        "    chunk[\"messages\"][-1].pretty_print()"
      ],
      "metadata": {
        "id": "QBgsFh2Ib_u5",
        "outputId": "2a8af4f0-418d-42e5-d6b3-915b1d56e578",
        "colab": {
          "base_uri": "https://localhost:8080/"
        }
      },
      "execution_count": null,
      "outputs": [
        {
          "output_type": "stream",
          "name": "stdout",
          "text": [
            "================================\u001b[1m Human Message \u001b[0m=================================\n",
            "\n",
            "can you help me with my Medium article for next friday.\n",
            "==================================\u001b[1m Ai Message \u001b[0m==================================\n",
            "\n",
            "Of course! Let's get started on your Medium article about AI agents. Here are a few steps we can take:\n",
            "\n",
            "1. **Outline the Article:**\n",
            "   - **Introduction:** Briefly introduce AI agents and their relevance in today's tech landscape.\n",
            "   - **What are AI Agents?:** Define AI agents and explain their basic functionalities.\n",
            "   - **Applications in Generative AI:** Discuss how AI agents can be used in building generative AI apps.\n",
            "   - **Benefits and Challenges:** Highlight the advantages and potential challenges of using AI agents.\n",
            "   - **Conclusion:** Summarize the key points and discuss future trends or developments.\n",
            "\n",
            "2. **Research and Gather Information:**\n",
            "   - Look for recent studies, articles, or case studies about AI agents.\n",
            "   - Gather examples of successful implementations in generative AI.\n",
            "\n",
            "3. **Draft the Article:**\n",
            "   - Start writing based on the outline, ensuring each section flows logically to the next.\n",
            "   - Use engaging language and visuals if possible to keep the reader interested.\n",
            "\n",
            "4. **Edit and Revise:**\n",
            "   - Review the draft for clarity, coherence, and conciseness.\n",
            "   - Check for grammatical errors and ensure the article aligns with your target audience's interests.\n",
            "\n",
            "5. **Finalize and Publish:**\n",
            "   - Add any final touches, such as images or links.\n",
            "   - Schedule the article for publication on Medium.\n",
            "\n",
            "Let me know which part you'd like to focus on, or if you need help with a specific section!\n"
          ]
        }
      ]
    }
  ]
}